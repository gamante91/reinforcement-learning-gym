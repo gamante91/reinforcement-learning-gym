{
  "nbformat": 4,
  "nbformat_minor": 0,
  "metadata": {
    "colab": {
      "name": "cartpole-control.ipynb",
      "version": "0.3.2",
      "provenance": [],
      "collapsed_sections": [],
      "include_colab_link": true
    },
    "kernelspec": {
      "name": "python3",
      "display_name": "Python 3"
    },
    "accelerator": "GPU"
  },
  "cells": [
    {
      "cell_type": "markdown",
      "metadata": {
        "id": "view-in-github",
        "colab_type": "text"
      },
      "source": [
        "[View in Colaboratory](https://colab.research.google.com/github/gamante91/reinforcement-learning-gym/blob/master/cartpole_control.ipynb)"
      ]
    },
    {
      "metadata": {
        "id": "7LwWSAeWlAYK",
        "colab_type": "code",
        "colab": {
          "base_uri": "https://localhost:8080/",
          "height": 187
        },
        "outputId": "69a6de5e-c871-423d-c549-764c0c9ecd49"
      },
      "cell_type": "code",
      "source": [
        "!pip install gym"
      ],
      "execution_count": 24,
      "outputs": [
        {
          "output_type": "stream",
          "text": [
            "Requirement already satisfied: gym in /usr/local/lib/python3.6/dist-packages (0.10.5)\n",
            "Requirement already satisfied: requests>=2.0 in /usr/local/lib/python3.6/dist-packages (from gym) (2.18.4)\n",
            "Requirement already satisfied: pyglet>=1.2.0 in /usr/local/lib/python3.6/dist-packages (from gym) (1.3.2)\n",
            "Requirement already satisfied: numpy>=1.10.4 in /usr/local/lib/python3.6/dist-packages (from gym) (1.14.5)\n",
            "Requirement already satisfied: six in /usr/local/lib/python3.6/dist-packages (from gym) (1.11.0)\n",
            "Requirement already satisfied: chardet<3.1.0,>=3.0.2 in /usr/local/lib/python3.6/dist-packages (from requests>=2.0->gym) (3.0.4)\n",
            "Requirement already satisfied: idna<2.7,>=2.5 in /usr/local/lib/python3.6/dist-packages (from requests>=2.0->gym) (2.6)\n",
            "Requirement already satisfied: urllib3<1.23,>=1.21.1 in /usr/local/lib/python3.6/dist-packages (from requests>=2.0->gym) (1.22)\n",
            "Requirement already satisfied: certifi>=2017.4.17 in /usr/local/lib/python3.6/dist-packages (from requests>=2.0->gym) (2018.8.24)\n",
            "Requirement already satisfied: future in /usr/local/lib/python3.6/dist-packages (from pyglet>=1.2.0->gym) (0.16.0)\n"
          ],
          "name": "stdout"
        }
      ]
    },
    {
      "metadata": {
        "id": "UHOQ03l7lCB-",
        "colab_type": "code",
        "colab": {}
      },
      "cell_type": "code",
      "source": [
        "import gym\n",
        "import gym.spaces\n",
        "import gym.wrappers as wrappers\n",
        "import numpy as np\n",
        "\n",
        "gym.logger.set_level(40)"
      ],
      "execution_count": 0,
      "outputs": []
    },
    {
      "metadata": {
        "id": "f6LfE4JelTr3",
        "colab_type": "code",
        "colab": {}
      },
      "cell_type": "code",
      "source": [
        "def sigmoid(x):\n",
        "    return 1/(1+np.exp(-x))"
      ],
      "execution_count": 0,
      "outputs": []
    },
    {
      "metadata": {
        "id": "FYu3AfdolV_h",
        "colab_type": "code",
        "colab": {}
      },
      "cell_type": "code",
      "source": [
        "def train(epochs, environment):\n",
        "    best_score = 0;\n",
        "    best_weights = np.zeros(4)\n",
        "\n",
        "    for i in range(epochs):\n",
        "        done = False\n",
        "        observation = environment.reset()\n",
        "        score = 0\n",
        "        curr_weights = np.random.uniform(-1, 1, size=4)\n",
        "\n",
        "        while (not done and score < 200):\n",
        "            action = 1 if sigmoid(np.dot(observation,curr_weights)) >= 0.5 else 0\n",
        "            observation, reward, done, _ = env.step(action)\n",
        "            score = score + 1\n",
        "\n",
        "        if score > best_score:\n",
        "            best_score = score\n",
        "            best_weights = curr_weights\n",
        "            \n",
        "    print(\"after \", epochs, \"training experiment, the best speciment reached a score of \", best_score, \"!\")\n",
        "    print(\"We created a monster with weights:\", best_weights)\n",
        "    return best_weights"
      ],
      "execution_count": 0,
      "outputs": []
    },
    {
      "metadata": {
        "id": "l9J9mqxJ_xsl",
        "colab_type": "code",
        "colab": {
          "base_uri": "https://localhost:8080/",
          "height": 68
        },
        "outputId": "7152c08d-702d-46e0-8660-a0f9375f2636"
      },
      "cell_type": "code",
      "source": [
        "env = gym.make('CartPole-v0').env\n",
        "weights = train(epochs=500, environment=env)\n",
        "observation = env.reset()\n",
        "done = False\n",
        "score = 0\n",
        "\n",
        "while not done:\n",
        "    action = 1 if sigmoid(np.dot(observation, weights)) >= 0.5 else 0\n",
        "    observation, reward, done, _ = env.step(action)\n",
        "    score = score + 1\n",
        "    #env.render()\n",
        "\n",
        "print(\"final score:\", score)\n",
        "\n",
        "env.close()"
      ],
      "execution_count": 29,
      "outputs": [
        {
          "output_type": "stream",
          "text": [
            "after  500 training experiment, the best speciment reached a score of  200 !\n",
            "We created a monster with weights: [-0.45872516  0.4729945  -0.43758316  0.99832787]\n",
            "final score: 423\n"
          ],
          "name": "stdout"
        }
      ]
    },
    {
      "metadata": {
        "id": "x1f1yiIwBM_u",
        "colab_type": "code",
        "colab": {}
      },
      "cell_type": "code",
      "source": [
        ""
      ],
      "execution_count": 0,
      "outputs": []
    }
  ]
}